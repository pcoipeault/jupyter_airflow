{
 "cells": [
  {
   "cell_type": "code",
   "execution_count": 24,
   "metadata": {
    "ExecuteTime": {
     "end_time": "2020-01-26T14:57:37.889247Z",
     "start_time": "2020-01-26T14:57:37.884488Z"
    }
   },
   "outputs": [],
   "source": [
    "import os\n",
    "import glob\n",
    "import pysftp\n",
    "import datetime as dt\n",
    "import dateutil as du\n",
    "import pandas as pd"
   ]
  },
  {
   "cell_type": "markdown",
   "metadata": {},
   "source": [
    "# First step, retrieving files from a SFTP\n",
    "The files you want to download are available the 8th of each month.The filename has a date pattern and you just want to download the latest files. Here’s a possible snippet to set an appropriate current_month value :"
   ]
  },
  {
   "cell_type": "code",
   "execution_count": 2,
   "metadata": {
    "ExecuteTime": {
     "end_time": "2020-01-26T14:23:33.549753Z",
     "start_time": "2020-01-26T14:23:33.542518Z"
    }
   },
   "outputs": [],
   "source": [
    "'''\n",
    "Generating current_month value to retrieve the appropriate files \n",
    "'''\n",
    "today = dt.date.today()\n",
    "\n",
    "if today.day >= 8:\n",
    "    current_month = today.strftime('%Y-%m')\n",
    "else:\n",
    "    previous_date = today - du.relativedelta.relativedelta(months=1)\n",
    "    current_month = previous_date.strftime('%Y-%m')"
   ]
  },
  {
   "cell_type": "code",
   "execution_count": 3,
   "metadata": {
    "ExecuteTime": {
     "end_time": "2020-01-26T14:24:19.285051Z",
     "start_time": "2020-01-26T14:24:19.280123Z"
    }
   },
   "outputs": [],
   "source": [
    "'''\n",
    "List of the files to retrieve from the server\n",
    "'''\n",
    "file_list = [\n",
    "    'lego_colors_' + current_month + '.csv',\n",
    "    'lego_inventory_parts_' + current_month + '.csv',\n",
    "    'lego_parts_' + current_month + '.csv'\n",
    "]"
   ]
  },
  {
   "cell_type": "code",
   "execution_count": 7,
   "metadata": {
    "ExecuteTime": {
     "end_time": "2020-01-26T14:27:46.044956Z",
     "start_time": "2020-01-26T14:27:46.039928Z"
    }
   },
   "outputs": [],
   "source": [
    "'''\n",
    "SFTP connection variables\n",
    "'''\n",
    "local_path  = './sftp_data/'\n",
    "private_key = '/home/jupyter/.ssh/id_rsa'\n",
    "hostname    = 'sftp.example.com'\n",
    "username    = 'sftpuser'\n",
    "path_sftp   = '/deposit/'"
   ]
  },
  {
   "cell_type": "code",
   "execution_count": null,
   "metadata": {},
   "outputs": [],
   "source": [
    "'''\n",
    "We retrieve the files with pysftp\n",
    "'''\n",
    "cnopts = pysftp.CnOpts()\n",
    "cnopts.hostkeys = None  \n",
    "\n",
    "sftp_params = {\n",
    "    'username': username,\n",
    "    'private_key' : private_key,\n",
    "    'cnopts' : cnopts,\n",
    "}\n",
    "\n",
    "with pysftp.Connection(hostname, **sftp_params) as sftp:\n",
    "    with sftp.cd(path_sftp):\n",
    "        for file in file_list:\n",
    "            sftp.get(file, localpath=os.path.join(local_path, file), preserve_mtime=True)"
   ]
  },
  {
   "cell_type": "code",
   "execution_count": 8,
   "metadata": {
    "ExecuteTime": {
     "end_time": "2020-01-26T14:27:48.170099Z",
     "start_time": "2020-01-26T14:27:48.164011Z"
    }
   },
   "outputs": [
    {
     "name": "stdout",
     "output_type": "stream",
     "text": [
      "./sftp_data/lego_colors_2020-01.csv\n",
      "./sftp_data/lego_inventory_parts_2020-01.csv\n",
      "./sftp_data/lego_parts_2020-01.csv\n"
     ]
    }
   ],
   "source": [
    "'''\n",
    "Checking if the files are in the correct repository\n",
    "'''\n",
    "for local_file in glob.glob(local_path + '*'):\n",
    "    print(local_file)"
   ]
  },
  {
   "cell_type": "markdown",
   "metadata": {},
   "source": [
    "# Now it's time to read the first CSV\n",
    "We will read the `lego_inventory_parts_2020-01.csv` file and check its structure"
   ]
  },
  {
   "cell_type": "code",
   "execution_count": 9,
   "metadata": {
    "ExecuteTime": {
     "end_time": "2020-01-26T14:29:26.664105Z",
     "start_time": "2020-01-26T14:29:26.159609Z"
    }
   },
   "outputs": [],
   "source": [
    "inventory = pd.read_csv(os.path.join(local_path, 'lego_inventory_parts_' + current_month + '.csv'))"
   ]
  },
  {
   "cell_type": "code",
   "execution_count": 10,
   "metadata": {
    "ExecuteTime": {
     "end_time": "2020-01-26T14:29:35.024756Z",
     "start_time": "2020-01-26T14:29:34.825896Z"
    }
   },
   "outputs": [
    {
     "name": "stdout",
     "output_type": "stream",
     "text": [
      "<class 'pandas.core.frame.DataFrame'>\n",
      "RangeIndex: 809750 entries, 0 to 809749\n",
      "Data columns (total 5 columns):\n",
      "inventory_id    809750 non-null int64\n",
      "part_num        809750 non-null object\n",
      "color_id        809750 non-null int64\n",
      "quantity        809750 non-null int64\n",
      "is_spare        809750 non-null object\n",
      "dtypes: int64(3), object(2)\n",
      "memory usage: 30.9+ MB\n"
     ]
    }
   ],
   "source": [
    "inventory.info()"
   ]
  },
  {
   "cell_type": "code",
   "execution_count": 11,
   "metadata": {
    "ExecuteTime": {
     "end_time": "2020-01-26T14:29:46.142787Z",
     "start_time": "2020-01-26T14:29:46.115464Z"
    }
   },
   "outputs": [
    {
     "data": {
      "text/html": [
       "<div>\n",
       "<style scoped>\n",
       "    .dataframe tbody tr th:only-of-type {\n",
       "        vertical-align: middle;\n",
       "    }\n",
       "\n",
       "    .dataframe tbody tr th {\n",
       "        vertical-align: top;\n",
       "    }\n",
       "\n",
       "    .dataframe thead th {\n",
       "        text-align: right;\n",
       "    }\n",
       "</style>\n",
       "<table border=\"1\" class=\"dataframe\">\n",
       "  <thead>\n",
       "    <tr style=\"text-align: right;\">\n",
       "      <th></th>\n",
       "      <th>inventory_id</th>\n",
       "      <th>part_num</th>\n",
       "      <th>color_id</th>\n",
       "      <th>quantity</th>\n",
       "      <th>is_spare</th>\n",
       "    </tr>\n",
       "  </thead>\n",
       "  <tbody>\n",
       "    <tr>\n",
       "      <th>0</th>\n",
       "      <td>1</td>\n",
       "      <td>48379c01</td>\n",
       "      <td>72</td>\n",
       "      <td>1</td>\n",
       "      <td>f</td>\n",
       "    </tr>\n",
       "    <tr>\n",
       "      <th>1</th>\n",
       "      <td>1</td>\n",
       "      <td>48395</td>\n",
       "      <td>7</td>\n",
       "      <td>1</td>\n",
       "      <td>f</td>\n",
       "    </tr>\n",
       "    <tr>\n",
       "      <th>2</th>\n",
       "      <td>1</td>\n",
       "      <td>mcsport6</td>\n",
       "      <td>25</td>\n",
       "      <td>1</td>\n",
       "      <td>f</td>\n",
       "    </tr>\n",
       "    <tr>\n",
       "      <th>3</th>\n",
       "      <td>1</td>\n",
       "      <td>paddle</td>\n",
       "      <td>0</td>\n",
       "      <td>1</td>\n",
       "      <td>f</td>\n",
       "    </tr>\n",
       "    <tr>\n",
       "      <th>4</th>\n",
       "      <td>3</td>\n",
       "      <td>11816pr0005</td>\n",
       "      <td>78</td>\n",
       "      <td>1</td>\n",
       "      <td>f</td>\n",
       "    </tr>\n",
       "  </tbody>\n",
       "</table>\n",
       "</div>"
      ],
      "text/plain": [
       "   inventory_id     part_num  color_id  quantity is_spare\n",
       "0             1     48379c01        72         1        f\n",
       "1             1        48395         7         1        f\n",
       "2             1     mcsport6        25         1        f\n",
       "3             1       paddle         0         1        f\n",
       "4             3  11816pr0005        78         1        f"
      ]
     },
     "execution_count": 11,
     "metadata": {},
     "output_type": "execute_result"
    }
   ],
   "source": [
    "inventory.head()"
   ]
  },
  {
   "cell_type": "markdown",
   "metadata": {},
   "source": [
    "# Joining the other CSV files to make it human readable\n",
    "We will join the `color` CSV file and join on the `color_id`, then we will join the `parts` CSV file and join it on `part_num`"
   ]
  },
  {
   "cell_type": "code",
   "execution_count": 12,
   "metadata": {
    "ExecuteTime": {
     "end_time": "2020-01-26T14:32:13.971172Z",
     "start_time": "2020-01-26T14:32:13.960444Z"
    }
   },
   "outputs": [],
   "source": [
    "colors = pd.read_csv(os.path.join(local_path, 'lego_colors_' + current_month + '.csv'))"
   ]
  },
  {
   "cell_type": "code",
   "execution_count": 13,
   "metadata": {
    "ExecuteTime": {
     "end_time": "2020-01-26T14:33:07.159056Z",
     "start_time": "2020-01-26T14:33:07.146554Z"
    }
   },
   "outputs": [
    {
     "name": "stdout",
     "output_type": "stream",
     "text": [
      "<class 'pandas.core.frame.DataFrame'>\n",
      "RangeIndex: 182 entries, 0 to 181\n",
      "Data columns (total 4 columns):\n",
      "id          182 non-null int64\n",
      "name        182 non-null object\n",
      "rgb         182 non-null object\n",
      "is_trans    182 non-null object\n",
      "dtypes: int64(1), object(3)\n",
      "memory usage: 5.8+ KB\n"
     ]
    }
   ],
   "source": [
    "colors.info()"
   ]
  },
  {
   "cell_type": "code",
   "execution_count": 14,
   "metadata": {
    "ExecuteTime": {
     "end_time": "2020-01-26T14:33:28.487988Z",
     "start_time": "2020-01-26T14:33:28.300123Z"
    }
   },
   "outputs": [],
   "source": [
    "inventory = inventory.merge(colors, how='inner', left_on='color_id', right_on='id')"
   ]
  },
  {
   "cell_type": "code",
   "execution_count": 15,
   "metadata": {
    "ExecuteTime": {
     "end_time": "2020-01-26T14:34:01.911802Z",
     "start_time": "2020-01-26T14:34:01.821899Z"
    }
   },
   "outputs": [],
   "source": [
    "parts = pd.read_csv(os.path.join(local_path, 'lego_parts_' + current_month + '.csv'))"
   ]
  },
  {
   "cell_type": "code",
   "execution_count": 17,
   "metadata": {
    "ExecuteTime": {
     "end_time": "2020-01-26T14:35:39.542483Z",
     "start_time": "2020-01-26T14:35:39.519678Z"
    }
   },
   "outputs": [
    {
     "name": "stdout",
     "output_type": "stream",
     "text": [
      "<class 'pandas.core.frame.DataFrame'>\n",
      "RangeIndex: 35104 entries, 0 to 35103\n",
      "Data columns (total 4 columns):\n",
      "part_num            35104 non-null object\n",
      "name                35104 non-null object\n",
      "part_cat_id         35104 non-null int64\n",
      "part_material_id    35104 non-null int64\n",
      "dtypes: int64(2), object(2)\n",
      "memory usage: 1.1+ MB\n"
     ]
    }
   ],
   "source": [
    "parts.info()"
   ]
  },
  {
   "cell_type": "code",
   "execution_count": 16,
   "metadata": {
    "ExecuteTime": {
     "end_time": "2020-01-26T14:35:28.907103Z",
     "start_time": "2020-01-26T14:35:28.598495Z"
    }
   },
   "outputs": [],
   "source": [
    "inventory = inventory.merge(parts, how='inner', left_on='part_num', right_on='part_num', suffixes=('_color', '_part'))"
   ]
  },
  {
   "cell_type": "code",
   "execution_count": 18,
   "metadata": {
    "ExecuteTime": {
     "end_time": "2020-01-26T14:35:50.855944Z",
     "start_time": "2020-01-26T14:35:50.830592Z"
    }
   },
   "outputs": [
    {
     "data": {
      "text/html": [
       "<div>\n",
       "<style scoped>\n",
       "    .dataframe tbody tr th:only-of-type {\n",
       "        vertical-align: middle;\n",
       "    }\n",
       "\n",
       "    .dataframe tbody tr th {\n",
       "        vertical-align: top;\n",
       "    }\n",
       "\n",
       "    .dataframe thead th {\n",
       "        text-align: right;\n",
       "    }\n",
       "</style>\n",
       "<table border=\"1\" class=\"dataframe\">\n",
       "  <thead>\n",
       "    <tr style=\"text-align: right;\">\n",
       "      <th></th>\n",
       "      <th>inventory_id</th>\n",
       "      <th>part_num</th>\n",
       "      <th>color_id</th>\n",
       "      <th>quantity</th>\n",
       "      <th>is_spare</th>\n",
       "      <th>id</th>\n",
       "      <th>name_color</th>\n",
       "      <th>rgb</th>\n",
       "      <th>is_trans</th>\n",
       "      <th>name_part</th>\n",
       "      <th>part_cat_id</th>\n",
       "      <th>part_material_id</th>\n",
       "    </tr>\n",
       "  </thead>\n",
       "  <tbody>\n",
       "    <tr>\n",
       "      <th>0</th>\n",
       "      <td>1</td>\n",
       "      <td>48379c01</td>\n",
       "      <td>72</td>\n",
       "      <td>1</td>\n",
       "      <td>f</td>\n",
       "      <td>72</td>\n",
       "      <td>Dark Bluish Gray</td>\n",
       "      <td>6C6E68</td>\n",
       "      <td>f</td>\n",
       "      <td>Sports Promo Figure Base with Feet</td>\n",
       "      <td>27</td>\n",
       "      <td>1</td>\n",
       "    </tr>\n",
       "    <tr>\n",
       "      <th>1</th>\n",
       "      <td>15767</td>\n",
       "      <td>48379c01</td>\n",
       "      <td>72</td>\n",
       "      <td>1</td>\n",
       "      <td>f</td>\n",
       "      <td>72</td>\n",
       "      <td>Dark Bluish Gray</td>\n",
       "      <td>6C6E68</td>\n",
       "      <td>f</td>\n",
       "      <td>Sports Promo Figure Base with Feet</td>\n",
       "      <td>27</td>\n",
       "      <td>1</td>\n",
       "    </tr>\n",
       "    <tr>\n",
       "      <th>2</th>\n",
       "      <td>738</td>\n",
       "      <td>48379c01</td>\n",
       "      <td>0</td>\n",
       "      <td>1</td>\n",
       "      <td>f</td>\n",
       "      <td>0</td>\n",
       "      <td>Black</td>\n",
       "      <td>05131D</td>\n",
       "      <td>f</td>\n",
       "      <td>Sports Promo Figure Base with Feet</td>\n",
       "      <td>27</td>\n",
       "      <td>1</td>\n",
       "    </tr>\n",
       "    <tr>\n",
       "      <th>3</th>\n",
       "      <td>11896</td>\n",
       "      <td>48379c01</td>\n",
       "      <td>15</td>\n",
       "      <td>1</td>\n",
       "      <td>f</td>\n",
       "      <td>15</td>\n",
       "      <td>White</td>\n",
       "      <td>FFFFFF</td>\n",
       "      <td>f</td>\n",
       "      <td>Sports Promo Figure Base with Feet</td>\n",
       "      <td>27</td>\n",
       "      <td>1</td>\n",
       "    </tr>\n",
       "    <tr>\n",
       "      <th>4</th>\n",
       "      <td>1733</td>\n",
       "      <td>48379c01</td>\n",
       "      <td>1</td>\n",
       "      <td>1</td>\n",
       "      <td>f</td>\n",
       "      <td>1</td>\n",
       "      <td>Blue</td>\n",
       "      <td>0055BF</td>\n",
       "      <td>f</td>\n",
       "      <td>Sports Promo Figure Base with Feet</td>\n",
       "      <td>27</td>\n",
       "      <td>1</td>\n",
       "    </tr>\n",
       "  </tbody>\n",
       "</table>\n",
       "</div>"
      ],
      "text/plain": [
       "   inventory_id  part_num  color_id  quantity is_spare  id        name_color  \\\n",
       "0             1  48379c01        72         1        f  72  Dark Bluish Gray   \n",
       "1         15767  48379c01        72         1        f  72  Dark Bluish Gray   \n",
       "2           738  48379c01         0         1        f   0             Black   \n",
       "3         11896  48379c01        15         1        f  15             White   \n",
       "4          1733  48379c01         1         1        f   1              Blue   \n",
       "\n",
       "      rgb is_trans                           name_part  part_cat_id  \\\n",
       "0  6C6E68        f  Sports Promo Figure Base with Feet           27   \n",
       "1  6C6E68        f  Sports Promo Figure Base with Feet           27   \n",
       "2  05131D        f  Sports Promo Figure Base with Feet           27   \n",
       "3  FFFFFF        f  Sports Promo Figure Base with Feet           27   \n",
       "4  0055BF        f  Sports Promo Figure Base with Feet           27   \n",
       "\n",
       "   part_material_id  \n",
       "0                 1  \n",
       "1                 1  \n",
       "2                 1  \n",
       "3                 1  \n",
       "4                 1  "
      ]
     },
     "execution_count": 18,
     "metadata": {},
     "output_type": "execute_result"
    }
   ],
   "source": [
    "inventory.head()"
   ]
  },
  {
   "cell_type": "markdown",
   "metadata": {},
   "source": [
    "# Dropping columns we won't use\n",
    "We are cleaning our dataframe from redundant information and some we won't need to import in our database"
   ]
  },
  {
   "cell_type": "code",
   "execution_count": 20,
   "metadata": {
    "ExecuteTime": {
     "end_time": "2020-01-26T14:39:24.254670Z",
     "start_time": "2020-01-26T14:39:23.958923Z"
    }
   },
   "outputs": [],
   "source": [
    "inventory = inventory.drop(['color_id', 'id', 'rgb', 'part_cat_id', 'part_material_id'], axis=1)"
   ]
  },
  {
   "cell_type": "code",
   "execution_count": 21,
   "metadata": {
    "ExecuteTime": {
     "end_time": "2020-01-26T14:39:30.745773Z",
     "start_time": "2020-01-26T14:39:30.725872Z"
    }
   },
   "outputs": [
    {
     "data": {
      "text/html": [
       "<div>\n",
       "<style scoped>\n",
       "    .dataframe tbody tr th:only-of-type {\n",
       "        vertical-align: middle;\n",
       "    }\n",
       "\n",
       "    .dataframe tbody tr th {\n",
       "        vertical-align: top;\n",
       "    }\n",
       "\n",
       "    .dataframe thead th {\n",
       "        text-align: right;\n",
       "    }\n",
       "</style>\n",
       "<table border=\"1\" class=\"dataframe\">\n",
       "  <thead>\n",
       "    <tr style=\"text-align: right;\">\n",
       "      <th></th>\n",
       "      <th>inventory_id</th>\n",
       "      <th>part_num</th>\n",
       "      <th>quantity</th>\n",
       "      <th>is_spare</th>\n",
       "      <th>name_color</th>\n",
       "      <th>is_trans</th>\n",
       "      <th>name_part</th>\n",
       "    </tr>\n",
       "  </thead>\n",
       "  <tbody>\n",
       "    <tr>\n",
       "      <th>0</th>\n",
       "      <td>1</td>\n",
       "      <td>48379c01</td>\n",
       "      <td>1</td>\n",
       "      <td>f</td>\n",
       "      <td>Dark Bluish Gray</td>\n",
       "      <td>f</td>\n",
       "      <td>Sports Promo Figure Base with Feet</td>\n",
       "    </tr>\n",
       "    <tr>\n",
       "      <th>1</th>\n",
       "      <td>15767</td>\n",
       "      <td>48379c01</td>\n",
       "      <td>1</td>\n",
       "      <td>f</td>\n",
       "      <td>Dark Bluish Gray</td>\n",
       "      <td>f</td>\n",
       "      <td>Sports Promo Figure Base with Feet</td>\n",
       "    </tr>\n",
       "    <tr>\n",
       "      <th>2</th>\n",
       "      <td>738</td>\n",
       "      <td>48379c01</td>\n",
       "      <td>1</td>\n",
       "      <td>f</td>\n",
       "      <td>Black</td>\n",
       "      <td>f</td>\n",
       "      <td>Sports Promo Figure Base with Feet</td>\n",
       "    </tr>\n",
       "    <tr>\n",
       "      <th>3</th>\n",
       "      <td>11896</td>\n",
       "      <td>48379c01</td>\n",
       "      <td>1</td>\n",
       "      <td>f</td>\n",
       "      <td>White</td>\n",
       "      <td>f</td>\n",
       "      <td>Sports Promo Figure Base with Feet</td>\n",
       "    </tr>\n",
       "    <tr>\n",
       "      <th>4</th>\n",
       "      <td>1733</td>\n",
       "      <td>48379c01</td>\n",
       "      <td>1</td>\n",
       "      <td>f</td>\n",
       "      <td>Blue</td>\n",
       "      <td>f</td>\n",
       "      <td>Sports Promo Figure Base with Feet</td>\n",
       "    </tr>\n",
       "  </tbody>\n",
       "</table>\n",
       "</div>"
      ],
      "text/plain": [
       "   inventory_id  part_num  quantity is_spare        name_color is_trans  \\\n",
       "0             1  48379c01         1        f  Dark Bluish Gray        f   \n",
       "1         15767  48379c01         1        f  Dark Bluish Gray        f   \n",
       "2           738  48379c01         1        f             Black        f   \n",
       "3         11896  48379c01         1        f             White        f   \n",
       "4          1733  48379c01         1        f              Blue        f   \n",
       "\n",
       "                            name_part  \n",
       "0  Sports Promo Figure Base with Feet  \n",
       "1  Sports Promo Figure Base with Feet  \n",
       "2  Sports Promo Figure Base with Feet  \n",
       "3  Sports Promo Figure Base with Feet  \n",
       "4  Sports Promo Figure Base with Feet  "
      ]
     },
     "execution_count": 21,
     "metadata": {},
     "output_type": "execute_result"
    }
   ],
   "source": [
    "inventory.head()"
   ]
  },
  {
   "cell_type": "markdown",
   "metadata": {},
   "source": [
    "# Our dataframe is ready to be saved !\n",
    "We will save this dataframe to a CSV file. And, we will archive the files by moving them in an `archive` repository."
   ]
  },
  {
   "cell_type": "code",
   "execution_count": 25,
   "metadata": {
    "ExecuteTime": {
     "end_time": "2020-01-26T14:57:42.511208Z",
     "start_time": "2020-01-26T14:57:42.506117Z"
    }
   },
   "outputs": [],
   "source": [
    "csv_options = {\n",
    "    'path_or_buf': os.path.join(local_path, 'inventory_enriched.csv'),\n",
    "    'sep'      : ';',\n",
    "    'encoding' : 'utf8',\n",
    "    'index'    : False,\n",
    "    'na_rep'   : '\\\\N'\n",
    "}"
   ]
  },
  {
   "cell_type": "code",
   "execution_count": 26,
   "metadata": {
    "ExecuteTime": {
     "end_time": "2020-01-26T15:00:42.900360Z",
     "start_time": "2020-01-26T15:00:39.705978Z"
    }
   },
   "outputs": [],
   "source": [
    "inventory.to_csv(**csv_options)"
   ]
  },
  {
   "cell_type": "code",
   "execution_count": 28,
   "metadata": {
    "ExecuteTime": {
     "end_time": "2020-01-26T15:01:38.670638Z",
     "start_time": "2020-01-26T15:01:38.541472Z"
    }
   },
   "outputs": [
    {
     "name": "stdout",
     "output_type": "stream",
     "text": [
      "inventory_id;part_num;quantity;is_spare;name_color;is_trans;name_part\r\n",
      "1;48379c01;1;f;Dark Bluish Gray;f;Sports Promo Figure Base with Feet\r\n",
      "15767;48379c01;1;f;Dark Bluish Gray;f;Sports Promo Figure Base with Feet\r\n",
      "738;48379c01;1;f;Black;f;Sports Promo Figure Base with Feet\r\n",
      "11896;48379c01;1;f;White;f;Sports Promo Figure Base with Feet\r\n",
      "1733;48379c01;1;f;Blue;f;Sports Promo Figure Base with Feet\r\n",
      "2304;48379c01;1;f;Blue;f;Sports Promo Figure Base with Feet\r\n",
      "7378;48379c01;1;f;Tan;f;Sports Promo Figure Base with Feet\r\n",
      "3157;48379c01;1;f;Dark Blue;f;Sports Promo Figure Base with Feet\r\n",
      "22;15573;1;f;Dark Bluish Gray;f;Plate Special 1 x 2 with 1 Stud with Groove and Inside Stud Holder (Jumper)\r\n"
     ]
    }
   ],
   "source": [
    "!head './sftp_data/inventory_enriched.csv'"
   ]
  },
  {
   "cell_type": "code",
   "execution_count": 29,
   "metadata": {
    "ExecuteTime": {
     "end_time": "2020-01-26T15:06:17.502088Z",
     "start_time": "2020-01-26T15:06:17.496668Z"
    }
   },
   "outputs": [],
   "source": [
    "os.rename(os.path.join(local_path, 'lego_inventory_parts_' + current_month + '.csv'), os.path.join(local_path, 'archive', 'lego_inventory_parts_' + current_month + '.csv'))\n",
    "os.rename(os.path.join(local_path, 'lego_colors_' + current_month + '.csv'), os.path.join(local_path, 'archive', 'lego_colors_' + current_month + '.csv'))\n",
    "os.rename(os.path.join(local_path, 'lego_parts_' + current_month + '.csv'), os.path.join(local_path, 'archive', 'lego_parts_' + current_month + '.csv'))"
   ]
  },
  {
   "cell_type": "markdown",
   "metadata": {},
   "source": [
    "# Now we upload it on our Google Cloud Storage bucket"
   ]
  },
  {
   "cell_type": "code",
   "execution_count": null,
   "metadata": {},
   "outputs": [],
   "source": [
    "!gsutil mv './sftp_data/inventory_enriched.csv' gs://my-gcs-bucket/"
   ]
  }
 ],
 "metadata": {
  "kernelspec": {
   "display_name": "Python 3",
   "language": "python",
   "name": "python3"
  },
  "language_info": {
   "codemirror_mode": {
    "name": "ipython",
    "version": 3
   },
   "file_extension": ".py",
   "mimetype": "text/x-python",
   "name": "python",
   "nbconvert_exporter": "python",
   "pygments_lexer": "ipython3",
   "version": "3.7.3"
  }
 },
 "nbformat": 4,
 "nbformat_minor": 2
}
